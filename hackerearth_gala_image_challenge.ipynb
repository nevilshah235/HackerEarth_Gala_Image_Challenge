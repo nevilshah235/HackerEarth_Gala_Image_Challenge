{
  "nbformat": 4,
  "nbformat_minor": 0,
  "metadata": {
    "kernelspec": {
      "language": "python",
      "display_name": "Python 3",
      "name": "python3"
    },
    "language_info": {
      "pygments_lexer": "ipython3",
      "nbconvert_exporter": "python",
      "version": "3.6.4",
      "file_extension": ".py",
      "codemirror_mode": {
        "name": "ipython",
        "version": 3
      },
      "name": "python",
      "mimetype": "text/x-python"
    },
    "colab": {
      "name": "hackerearth-gala-image-challenge.ipynb",
      "provenance": [],
      "include_colab_link": true
    }
  },
  "cells": [
    {
      "cell_type": "markdown",
      "metadata": {
        "id": "view-in-github",
        "colab_type": "text"
      },
      "source": [
        "<a href=\"https://colab.research.google.com/github/nevilshah235/HackerEarth_Gala_Image_Challenge/blob/master/hackerearth_gala_image_challenge.ipynb\" target=\"_parent\"><img src=\"https://colab.research.google.com/assets/colab-badge.svg\" alt=\"Open In Colab\"/></a>"
      ]
    },
    {
      "cell_type": "code",
      "metadata": {
        "_uuid": "8f2839f25d086af736a60e9eeb907d3b93b6e0e5",
        "_cell_guid": "b1076dfc-b9ad-4769-8c92-a6c4dae69d19",
        "trusted": true,
        "id": "0DJ1kzxY5kXq",
        "colab_type": "code",
        "colab": {}
      },
      "source": [
        "# This Python 3 environment comes with many helpful analytics libraries installed\n",
        "# It is defined by the kaggle/python docker image: https://github.com/kaggle/docker-python\n",
        "# For example, here's several helpful packages to load in \n",
        "\n",
        "import numpy as np # linear algebra\n",
        "import pandas as pd # data processing, CSV file I/O (e.g. pd.read_csv)\n",
        "\n",
        "# Input data files are available in the \"../input/\" directory.\n",
        "# For example, running this (by clicking run or pressing Shift+Enter) will list all files under the input directory\n",
        "\n",
        "import os\n",
        "for dirname, _, filenames in os.walk('/kaggle/input'):\n",
        "    for filename in filenames:\n",
        "        print(os.path.join(dirname, filename))\n",
        "\n",
        "# Any results you write to the current directory are saved as output."
      ],
      "execution_count": 0,
      "outputs": []
    },
    {
      "cell_type": "markdown",
      "metadata": {
        "id": "nyddrnLE5kX5",
        "colab_type": "text"
      },
      "source": [
        "# Load Data \n",
        "\n",
        "1. Define a function to load the Gala Image Data"
      ]
    },
    {
      "cell_type": "code",
      "metadata": {
        "trusted": true,
        "id": "JKMOBiJH5kX7",
        "colab_type": "code",
        "colab": {}
      },
      "source": [
        "import pdb\n",
        "from os.path import join\n",
        "from tensorflow.keras.preprocessing.image import load_img, img_to_array\n",
        "\n",
        "train = pd.read_csv('/kaggle/input/galasimages/dataset/train.csv')\n",
        "test = pd.read_csv('/kaggle/input/galasimages/dataset/test.csv')\n",
        "\n",
        "train_img_path = '/kaggle/input/galasimages/dataset/Train Images/'\n",
        "test_img_path = '/kaggle/input/galasimages/dataset/Test Images/'\n",
        "\n",
        "labels = ['food', 'attire', 'decor and signage', 'miscellaneous']\n",
        "img_size = 224\n",
        "\n",
        "Labels = {'Food':0, 'Attire':1,'Decorationandsignage':2 ,'misc':3}\n",
        "\n",
        "def load_images(img_path, img_height=img_size, img_width=img_size):\n",
        "        ImgList = os.listdir(img_path)\n",
        "        Images = [load_img(join(img_path + img), target_size = (img_height, img_width)) for img in ImgList]\n",
        "        img_array = np.array([img_to_array(img) for img in Images])/255.0\n",
        "        if(img_path == train_img_path):\n",
        "            y = [Labels[list(train[img == train.Image].Class)[0]] for img in ImgList]\n",
        "        else:\n",
        "            y = ImgList\n",
        "        return img_array,y\n",
        "\n",
        "Train_images, y_train = load_images(train_img_path, img_size, img_size)\n",
        "\n"
      ],
      "execution_count": 0,
      "outputs": []
    },
    {
      "cell_type": "code",
      "metadata": {
        "trusted": true,
        "id": "TGemXtVR5kYJ",
        "colab_type": "code",
        "colab": {}
      },
      "source": [
        "from sklearn.preprocessing import OneHotEncoder\n",
        "OH_encoder = OneHotEncoder()\n",
        "pd_y_train = pd.DataFrame(y_train, columns = ['Label'])\n",
        "OH_y_train = OH_encoder.fit_transform(pd_y_train).toarray()\n",
        "#train.head()\n",
        "#OH_y_train\n",
        "#list(train['image7042.jpg' == train.Image].Class)[0]\n",
        "#print(os.listdir(train_img_path))"
      ],
      "execution_count": 0,
      "outputs": []
    },
    {
      "cell_type": "code",
      "metadata": {
        "trusted": true,
        "id": "mc2OqRYC5kYT",
        "colab_type": "code",
        "colab": {}
      },
      "source": [
        "from tensorflow import keras\n",
        "from keras.models import Sequential\n",
        "from keras.applications.resnet50 import ResNet50\n",
        "from keras.layers import Dense, Flatten, Conv2D, MaxPooling2D, Dropout\n",
        "\n",
        "num_classes = 4\n",
        "\n",
        "resnet50 = ResNet50(include_top=False, weights='imagenet',input_shape = (img_size, img_size, 3), pooling='avg')\n",
        "\n",
        "resnet50.trainable=False\n",
        "\n",
        "Model=Sequential()\n",
        "Model.add(resnet50)\n",
        "\n",
        "Model.add(Dense(1024,activation='relu'))\n",
        "Model.add(Dense(512,activation='relu'))\n",
        "Model.add(Dense(num_classes,activation='softmax'))\n",
        "Model.compile(optimizer = 'adam', loss = 'categorical_crossentropy', metrics = ['accuracy'])"
      ],
      "execution_count": 0,
      "outputs": []
    },
    {
      "cell_type": "code",
      "metadata": {
        "trusted": true,
        "id": "SXiwVehQ5kYb",
        "colab_type": "code",
        "colab": {}
      },
      "source": [
        "from tensorflow import keras\n",
        "from tensorflow.keras.models import Sequential\n",
        "from tensorflow.keras.applications.xception import Xception\n",
        "from tensorflow.keras.callbacks import ReduceLROnPlateau, EarlyStopping\n",
        "from tensorflow.keras.layers import Dense, Flatten, Conv2D, MaxPooling2D, Dropout\n",
        "\n",
        "num_classes = 4\n",
        "\n",
        "reduce_learning_rate = ReduceLROnPlateau(monitor='loss', factor=0.1, patience=2, cooldown = 2, min_lr = 0.00001, verbose=1)\n",
        "#es = EarlyStopping(monitor='val_accuracy', mode='max', baseline=0.9, verbose=1)\n",
        "#cb = [es]\n",
        "cb = []\n",
        "xception = Xception(include_top=False, weights='imagenet',input_shape = (img_size, img_size, 3), pooling='avg')\n",
        "\n",
        "xception.trainable=False\n",
        "\n",
        "Model=Sequential()\n",
        "Model.add(xception)\n",
        "\n",
        "Model.add(Dense(1024,activation='relu'))\n",
        "Model.add(Dropout(0.5))\n",
        "#Model.add(Dense(256,activation='relu'))\n",
        "Model.add(Dense(num_classes,activation='softmax'))\n",
        "Model.compile(optimizer = 'adam', loss = 'categorical_crossentropy', metrics = ['accuracy'])"
      ],
      "execution_count": 0,
      "outputs": []
    },
    {
      "cell_type": "code",
      "metadata": {
        "trusted": true,
        "id": "sxC4uQBY5kYk",
        "colab_type": "code",
        "colab": {}
      },
      "source": [
        "from tensorflow import keras\n",
        "from tensorflow.keras.models import Sequential\n",
        "from tensorflow.keras.applications.vgg19 import VGG19\n",
        "from tensorflow.keras.callbacks import ReduceLROnPlateau, EarlyStopping\n",
        "from tensorflow.keras.layers import Dense, Flatten, Conv2D, MaxPooling2D, Dropout\n",
        "\n",
        "num_classes = 4\n",
        "\n",
        "reduce_learning_rate = ReduceLROnPlateau(monitor='val_loss', factor=0.1, patience=2, cooldown = 2, min_lr = 0.00001, verbose=1)\n",
        "#es = EarlyStopping(monitor='val_accuracy', mode='max', baseline=0.9)\n",
        "cb = [reduce_learning_rate]\n",
        "\n",
        "vgg19 = VGG19(include_top=False, weights='imagenet',input_shape = (img_size, img_size, 3), pooling='avg')\n",
        "\n",
        "vgg19.trainable=False\n",
        "\n",
        "Model=Sequential()\n",
        "Model.add(vgg19)\n",
        "\n",
        "Model.add(Dense(1024,activation='relu'))\n",
        "Model.add(Dropout(0.5))\n",
        "Model.add(Dense(num_classes,activation='softmax'))\n",
        "Model.compile(optimizer = 'adam', loss = 'categorical_crossentropy', metrics = ['accuracy'])"
      ],
      "execution_count": 0,
      "outputs": []
    },
    {
      "cell_type": "code",
      "metadata": {
        "trusted": true,
        "id": "ObGgeE5M5kYu",
        "colab_type": "code",
        "colab": {}
      },
      "source": [
        "from tensorflow import keras\n",
        "from tensorflow.keras.models import Sequential\n",
        "from tensorflow.keras.layers import Dense, Flatten, Conv2D, MaxPooling2D,Dropout\n",
        "\n",
        "num_classes = 4\n",
        "Model = Sequential()\n",
        "Model.add(Conv2D(64, kernel_size = (3,3), activation = 'relu', input_shape = (img_size, img_size, 3)))\n",
        "Model.add(Conv2D(64, kernel_size = (3,3), activation = 'relu'))\n",
        "Model.add(MaxPooling2D(pool_size=(2, 2),strides = (2,2)))\n",
        "Model.add(Conv2D(128, kernel_size = (3,3), activation = 'relu'))\n",
        "Model.add(Conv2D(128, kernel_size = (3,3), activation = 'relu'))\n",
        "Model.add(MaxPooling2D(pool_size=(2, 2),strides = (2,2)))\n",
        "Model.add(Conv2D(256, kernel_size = (3,3), activation = 'relu'))\n",
        "Model.add(Conv2D(256, kernel_size = (3,3), activation = 'relu'))\n",
        "Model.add(MaxPooling2D(pool_size=(2, 2),strides = (2,2)))\n",
        "Model.add(Conv2D(512, kernel_size = (3,3), activation = 'relu'))\n",
        "Model.add(Conv2D(512, kernel_size = (3,3), activation = 'relu'))\n",
        "Model.add(MaxPooling2D(pool_size=(2, 2),strides = (2,2)))\n",
        "Model.add(Flatten())\n",
        "Model.add(Dense(1024, activation = 'relu'))\n",
        "Model.add(Dense(num_classes, activation = 'softmax'))\n",
        "Model.compile(optimizer = 'adam', loss = 'categorical_crossentropy', metrics = ['accuracy'])"
      ],
      "execution_count": 0,
      "outputs": []
    },
    {
      "cell_type": "code",
      "metadata": {
        "trusted": true,
        "id": "GvpAN7yA5kY0",
        "colab_type": "code",
        "colab": {}
      },
      "source": [
        "#Model.fit(Train_images, OH_y_train, batch_size = 200, epochs = 3, validation_split = 0.2)\n"
      ],
      "execution_count": 0,
      "outputs": []
    },
    {
      "cell_type": "code",
      "metadata": {
        "trusted": true,
        "id": "DU0yqmYA5kY6",
        "colab_type": "code",
        "colab": {}
      },
      "source": [
        "from sklearn.model_selection import train_test_split\n",
        "from tensorflow.keras.preprocessing.image import ImageDataGenerator\n",
        "\n",
        "batch_size = 32\n",
        "X_train, X_val, Y_train, Y_val = train_test_split(Train_images,OH_y_train, test_size=0.2, random_state=1)\n",
        "train_datagen = ImageDataGenerator(rotation_range=10,zoom_range = 0.20, width_shift_range=0.20,height_shift_range=0.20,horizontal_flip=True)\n",
        "train_generator = train_datagen.flow(np.array(X_train), Y_train, batch_size=batch_size)\n",
        "#val_datagen = ImageDataGenerator(rotation_range=10,zoom_range = 0.20, width_shift_range=0.20,height_shift_range=0.20,horizontal_flip=True)\n",
        "#val_generator = train_datagen.flow(np.array(X_val), Y_val, batch_size=batch_size)\n",
        "history = Model.fit_generator(train_generator, validation_data=(X_val, Y_val), epochs = 100, callbacks = cb)\n"
      ],
      "execution_count": 0,
      "outputs": []
    },
    {
      "cell_type": "code",
      "metadata": {
        "trusted": true,
        "id": "jVbmp1y65kZC",
        "colab_type": "code",
        "colab": {}
      },
      "source": [
        "Train_images = 0"
      ],
      "execution_count": 0,
      "outputs": []
    },
    {
      "cell_type": "code",
      "metadata": {
        "trusted": true,
        "id": "3SUMO_UY5kZK",
        "colab_type": "code",
        "colab": {}
      },
      "source": [
        "Test_images, test_name = load_images(test_img_path, img_size, img_size)\n",
        "Test_labels = Model.predict(Test_images)"
      ],
      "execution_count": 0,
      "outputs": []
    },
    {
      "cell_type": "code",
      "metadata": {
        "trusted": true,
        "id": "FuMj9XH45kZR",
        "colab_type": "code",
        "colab": {}
      },
      "source": [
        "#print(Test_labels)\n",
        "inv_Labels = {0:'Food', 1:'Attire',2:'Decorationandsignage' ,3:'misc'}\n",
        "Test_Labels = [inv_Labels[np.argmax(il)] for il in Test_labels]\n",
        "submission = pd.DataFrame({ 'Image': test_name, 'Class': Test_Labels })\n",
        "submision = submission.sort_values('Image')\n",
        "submission.to_csv('submission.csv', index=False)"
      ],
      "execution_count": 0,
      "outputs": []
    },
    {
      "cell_type": "code",
      "metadata": {
        "trusted": true,
        "id": "8ozXcw5o5kZZ",
        "colab_type": "code",
        "colab": {}
      },
      "source": [
        "len(Test_labels)"
      ],
      "execution_count": 0,
      "outputs": []
    },
    {
      "cell_type": "code",
      "metadata": {
        "trusted": true,
        "id": "8JszuUJG5kZf",
        "colab_type": "code",
        "colab": {}
      },
      "source": [
        ""
      ],
      "execution_count": 0,
      "outputs": []
    }
  ]
}